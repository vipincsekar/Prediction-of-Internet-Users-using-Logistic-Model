{
  "nbformat": 4,
  "nbformat_minor": 0,
  "metadata": {
    "colab": {
      "name": "predicting_phishing.ipynb",
      "version": "0.3.2",
      "provenance": [],
      "collapsed_sections": []
    },
    "kernelspec": {
      "name": "python3",
      "display_name": "Python 3"
    }
  },
  "cells": [
    {
      "metadata": {
        "id": "zUCiImc-S69S",
        "colab_type": "text"
      },
      "cell_type": "markdown",
      "source": [
        "Importing **Libraries**"
      ]
    },
    {
      "metadata": {
        "id": "mKSrXb28dAYz",
        "colab_type": "code",
        "colab": {}
      },
      "cell_type": "code",
      "source": [
        "import numpy as np\n",
        "import pandas as pd\n",
        "import matplotlib.pyplot as plt\n"
      ],
      "execution_count": 0,
      "outputs": []
    },
    {
      "metadata": {
        "id": "a48t4JMTTAUT",
        "colab_type": "text"
      },
      "cell_type": "markdown",
      "source": [
        "Reading the dataset in **csv format**"
      ]
    },
    {
      "metadata": {
        "id": "CfLk19kMeG98",
        "colab_type": "code",
        "colab": {}
      },
      "cell_type": "code",
      "source": [
        "data = pd.read_csv(\"/content/data_task.csv\", encoding='ISO-8859-1')\n"
      ],
      "execution_count": 0,
      "outputs": []
    },
    {
      "metadata": {
        "id": "9TdRLQGSeKq4",
        "colab_type": "code",
        "outputId": "dc3b3d72-159b-4f43-e033-1c5107401671",
        "colab": {
          "base_uri": "https://localhost:8080/",
          "height": 159
        }
      },
      "cell_type": "code",
      "source": [
        "data.head(2)"
      ],
      "execution_count": 50,
      "outputs": [
        {
          "output_type": "execute_result",
          "data": {
            "text/html": [
              "<div>\n",
              "<style scoped>\n",
              "    .dataframe tbody tr th:only-of-type {\n",
              "        vertical-align: middle;\n",
              "    }\n",
              "\n",
              "    .dataframe tbody tr th {\n",
              "        vertical-align: top;\n",
              "    }\n",
              "\n",
              "    .dataframe thead th {\n",
              "        text-align: right;\n",
              "    }\n",
              "</style>\n",
              "<table border=\"1\" class=\"dataframe\">\n",
              "  <thead>\n",
              "    <tr style=\"text-align: right;\">\n",
              "      <th></th>\n",
              "      <th>having_IP_Address</th>\n",
              "      <th>URL_Length</th>\n",
              "      <th>Shortining_Service</th>\n",
              "      <th>having_At_Symbol</th>\n",
              "      <th>double_slash_redirecting</th>\n",
              "      <th>Prefix_Suffix</th>\n",
              "      <th>having_Sub_Domain</th>\n",
              "      <th>SSLfinal_State</th>\n",
              "      <th>Domain_registeration_length</th>\n",
              "      <th>Favicon</th>\n",
              "      <th>...</th>\n",
              "      <th>popUpWidnow</th>\n",
              "      <th>Iframe</th>\n",
              "      <th>age_of_domain</th>\n",
              "      <th>DNSRecord</th>\n",
              "      <th>web_traffic</th>\n",
              "      <th>Page_Rank</th>\n",
              "      <th>Google_Index</th>\n",
              "      <th>Links_pointing_to_page</th>\n",
              "      <th>Statistical_report</th>\n",
              "      <th>Result</th>\n",
              "    </tr>\n",
              "  </thead>\n",
              "  <tbody>\n",
              "    <tr>\n",
              "      <th>0</th>\n",
              "      <td>1</td>\n",
              "      <td>1</td>\n",
              "      <td>0</td>\n",
              "      <td>0</td>\n",
              "      <td>1</td>\n",
              "      <td>-1</td>\n",
              "      <td>-1</td>\n",
              "      <td>-1</td>\n",
              "      <td>0</td>\n",
              "      <td>0</td>\n",
              "      <td>...</td>\n",
              "      <td>0</td>\n",
              "      <td>0</td>\n",
              "      <td>-1</td>\n",
              "      <td>1</td>\n",
              "      <td>-1</td>\n",
              "      <td>-1</td>\n",
              "      <td>0</td>\n",
              "      <td>1</td>\n",
              "      <td>1</td>\n",
              "      <td>1</td>\n",
              "    </tr>\n",
              "    <tr>\n",
              "      <th>1</th>\n",
              "      <td>0</td>\n",
              "      <td>1</td>\n",
              "      <td>0</td>\n",
              "      <td>0</td>\n",
              "      <td>0</td>\n",
              "      <td>-1</td>\n",
              "      <td>0</td>\n",
              "      <td>1</td>\n",
              "      <td>0</td>\n",
              "      <td>0</td>\n",
              "      <td>...</td>\n",
              "      <td>0</td>\n",
              "      <td>0</td>\n",
              "      <td>-1</td>\n",
              "      <td>1</td>\n",
              "      <td>0</td>\n",
              "      <td>-1</td>\n",
              "      <td>0</td>\n",
              "      <td>1</td>\n",
              "      <td>0</td>\n",
              "      <td>1</td>\n",
              "    </tr>\n",
              "  </tbody>\n",
              "</table>\n",
              "<p>2 rows × 31 columns</p>\n",
              "</div>"
            ],
            "text/plain": [
              "   having_IP_Address  URL_Length  Shortining_Service  having_At_Symbol  \\\n",
              "0                  1           1                   0                 0   \n",
              "1                  0           1                   0                 0   \n",
              "\n",
              "   double_slash_redirecting  Prefix_Suffix  having_Sub_Domain  SSLfinal_State  \\\n",
              "0                         1             -1                 -1              -1   \n",
              "1                         0             -1                  0               1   \n",
              "\n",
              "   Domain_registeration_length  Favicon  ...  popUpWidnow  Iframe  \\\n",
              "0                            0        0  ...            0       0   \n",
              "1                            0        0  ...            0       0   \n",
              "\n",
              "   age_of_domain  DNSRecord  web_traffic  Page_Rank  Google_Index  \\\n",
              "0             -1          1           -1         -1             0   \n",
              "1             -1          1            0         -1             0   \n",
              "\n",
              "   Links_pointing_to_page  Statistical_report  Result  \n",
              "0                       1                   1       1  \n",
              "1                       1                   0       1  \n",
              "\n",
              "[2 rows x 31 columns]"
            ]
          },
          "metadata": {
            "tags": []
          },
          "execution_count": 50
        }
      ]
    },
    {
      "metadata": {
        "id": "URYaqQyfTFVr",
        "colab_type": "text"
      },
      "cell_type": "markdown",
      "source": [
        "Histogram for target variable \"**Result**\""
      ]
    },
    {
      "metadata": {
        "id": "T_Yc3j6uLxws",
        "colab_type": "code",
        "colab": {
          "base_uri": "https://localhost:8080/",
          "height": 287
        },
        "outputId": "e8b720a6-01b1-441c-aa48-6fb3c6fe8200"
      },
      "cell_type": "code",
      "source": [
        "data[\"Result\"].hist()"
      ],
      "execution_count": 51,
      "outputs": [
        {
          "output_type": "execute_result",
          "data": {
            "text/plain": [
              "<matplotlib.axes._subplots.AxesSubplot at 0x7f236b562c50>"
            ]
          },
          "metadata": {
            "tags": []
          },
          "execution_count": 51
        },
        {
          "output_type": "display_data",
          "data": {
            "image/png": "[encoded data removed]",
            "text/plain": [
              "<Figure size 432x288 with 1 Axes>"
            ]
          },
          "metadata": {
            "tags": []
          }
        }
      ]
    },
    {
      "metadata": {
        "id": "wW3qrH9Vbd_g",
        "colab_type": "code",
        "colab": {
          "base_uri": "https://localhost:8080/",
          "height": 1049
        },
        "outputId": "4f084e47-e70f-4e9d-e4f1-16c09f8d8741"
      },
      "cell_type": "code",
      "source": [
        "data.corr()"
      ],
      "execution_count": 55,
      "outputs": [
        {
          "output_type": "execute_result",
          "data": {
            "text/html": [
              "<div>\n",
              "<style scoped>\n",
              "    .dataframe tbody tr th:only-of-type {\n",
              "        vertical-align: middle;\n",
              "    }\n",
              "\n",
              "    .dataframe tbody tr th {\n",
              "        vertical-align: top;\n",
              "    }\n",
              "\n",
              "    .dataframe thead th {\n",
              "        text-align: right;\n",
              "    }\n",
              "</style>\n",
              "<table border=\"1\" class=\"dataframe\">\n",
              "  <thead>\n",
              "    <tr style=\"text-align: right;\">\n",
              "      <th></th>\n",
              "      <th>having_IP_Address</th>\n",
              "      <th>URL_Length</th>\n",
              "      <th>Shortining_Service</th>\n",
              "      <th>having_At_Symbol</th>\n",
              "      <th>double_slash_redirecting</th>\n",
              "      <th>Prefix_Suffix</th>\n",
              "      <th>having_Sub_Domain</th>\n",
              "      <th>SSLfinal_State</th>\n",
              "      <th>Domain_registeration_length</th>\n",
              "      <th>Favicon</th>\n",
              "      <th>...</th>\n",
              "      <th>popUpWidnow</th>\n",
              "      <th>Iframe</th>\n",
              "      <th>age_of_domain</th>\n",
              "      <th>DNSRecord</th>\n",
              "      <th>web_traffic</th>\n",
              "      <th>Page_Rank</th>\n",
              "      <th>Google_Index</th>\n",
              "      <th>Links_pointing_to_page</th>\n",
              "      <th>Statistical_report</th>\n",
              "      <th>Result</th>\n",
              "    </tr>\n",
              "  </thead>\n",
              "  <tbody>\n",
              "    <tr>\n",
              "      <th>having_IP_Address</th>\n",
              "      <td>1.000000</td>\n",
              "      <td>0.103582</td>\n",
              "      <td>0.946315</td>\n",
              "      <td>-0.085825</td>\n",
              "      <td>0.920203</td>\n",
              "      <td>0.108087</td>\n",
              "      <td>0.018615</td>\n",
              "      <td>0.043557</td>\n",
              "      <td>-0.098534</td>\n",
              "      <td>0.030326</td>\n",
              "      <td>...</td>\n",
              "      <td>0.049965</td>\n",
              "      <td>0.028537</td>\n",
              "      <td>0.050481</td>\n",
              "      <td>0.228888</td>\n",
              "      <td>0.106839</td>\n",
              "      <td>-0.016420</td>\n",
              "      <td>-0.047548</td>\n",
              "      <td>0.244556</td>\n",
              "      <td>0.215134</td>\n",
              "      <td>-0.061623</td>\n",
              "    </tr>\n",
              "    <tr>\n",
              "      <th>URL_Length</th>\n",
              "      <td>0.103582</td>\n",
              "      <td>1.000000</td>\n",
              "      <td>0.119039</td>\n",
              "      <td>0.069272</td>\n",
              "      <td>0.101536</td>\n",
              "      <td>0.068191</td>\n",
              "      <td>-0.012365</td>\n",
              "      <td>0.041580</td>\n",
              "      <td>-0.326758</td>\n",
              "      <td>0.045295</td>\n",
              "      <td>...</td>\n",
              "      <td>0.053432</td>\n",
              "      <td>0.012847</td>\n",
              "      <td>0.014283</td>\n",
              "      <td>0.051523</td>\n",
              "      <td>0.024704</td>\n",
              "      <td>0.000726</td>\n",
              "      <td>-0.026701</td>\n",
              "      <td>-0.007836</td>\n",
              "      <td>0.084554</td>\n",
              "      <td>-0.055605</td>\n",
              "    </tr>\n",
              "    <tr>\n",
              "      <th>Shortining_Service</th>\n",
              "      <td>0.946315</td>\n",
              "      <td>0.119039</td>\n",
              "      <td>1.000000</td>\n",
              "      <td>-0.068114</td>\n",
              "      <td>0.876519</td>\n",
              "      <td>0.111831</td>\n",
              "      <td>0.027941</td>\n",
              "      <td>0.052711</td>\n",
              "      <td>-0.089549</td>\n",
              "      <td>0.014858</td>\n",
              "      <td>...</td>\n",
              "      <td>0.045988</td>\n",
              "      <td>0.018059</td>\n",
              "      <td>0.056724</td>\n",
              "      <td>0.241016</td>\n",
              "      <td>0.095182</td>\n",
              "      <td>-0.027334</td>\n",
              "      <td>-0.043555</td>\n",
              "      <td>0.213561</td>\n",
              "      <td>0.219520</td>\n",
              "      <td>-0.061175</td>\n",
              "    </tr>\n",
              "    <tr>\n",
              "      <th>having_At_Symbol</th>\n",
              "      <td>-0.085825</td>\n",
              "      <td>0.069272</td>\n",
              "      <td>-0.068114</td>\n",
              "      <td>1.000000</td>\n",
              "      <td>-0.090966</td>\n",
              "      <td>0.026929</td>\n",
              "      <td>0.001966</td>\n",
              "      <td>-0.004449</td>\n",
              "      <td>-0.001145</td>\n",
              "      <td>-0.116249</td>\n",
              "      <td>...</td>\n",
              "      <td>-0.118706</td>\n",
              "      <td>-0.076476</td>\n",
              "      <td>0.035179</td>\n",
              "      <td>-0.107532</td>\n",
              "      <td>-0.066232</td>\n",
              "      <td>0.038937</td>\n",
              "      <td>-0.029553</td>\n",
              "      <td>-0.088749</td>\n",
              "      <td>-0.102878</td>\n",
              "      <td>0.008336</td>\n",
              "    </tr>\n",
              "    <tr>\n",
              "      <th>double_slash_redirecting</th>\n",
              "      <td>0.920203</td>\n",
              "      <td>0.101536</td>\n",
              "      <td>0.876519</td>\n",
              "      <td>-0.090966</td>\n",
              "      <td>1.000000</td>\n",
              "      <td>0.106398</td>\n",
              "      <td>0.020216</td>\n",
              "      <td>0.031330</td>\n",
              "      <td>-0.092049</td>\n",
              "      <td>0.048790</td>\n",
              "      <td>...</td>\n",
              "      <td>0.066721</td>\n",
              "      <td>0.015559</td>\n",
              "      <td>0.037953</td>\n",
              "      <td>0.233517</td>\n",
              "      <td>0.112327</td>\n",
              "      <td>-0.015349</td>\n",
              "      <td>-0.046161</td>\n",
              "      <td>0.202975</td>\n",
              "      <td>0.207816</td>\n",
              "      <td>-0.042536</td>\n",
              "    </tr>\n",
              "    <tr>\n",
              "      <th>Prefix_Suffix</th>\n",
              "      <td>0.108087</td>\n",
              "      <td>0.068191</td>\n",
              "      <td>0.111831</td>\n",
              "      <td>0.026929</td>\n",
              "      <td>0.106398</td>\n",
              "      <td>1.000000</td>\n",
              "      <td>0.115494</td>\n",
              "      <td>0.372453</td>\n",
              "      <td>-0.139030</td>\n",
              "      <td>-0.020312</td>\n",
              "      <td>...</td>\n",
              "      <td>-0.010835</td>\n",
              "      <td>0.011677</td>\n",
              "      <td>0.178187</td>\n",
              "      <td>-0.070127</td>\n",
              "      <td>0.241684</td>\n",
              "      <td>0.219008</td>\n",
              "      <td>-0.164327</td>\n",
              "      <td>0.069498</td>\n",
              "      <td>0.012800</td>\n",
              "      <td>-0.537020</td>\n",
              "    </tr>\n",
              "    <tr>\n",
              "      <th>having_Sub_Domain</th>\n",
              "      <td>0.018615</td>\n",
              "      <td>-0.012365</td>\n",
              "      <td>0.027941</td>\n",
              "      <td>0.001966</td>\n",
              "      <td>0.020216</td>\n",
              "      <td>0.115494</td>\n",
              "      <td>1.000000</td>\n",
              "      <td>0.259734</td>\n",
              "      <td>-0.049267</td>\n",
              "      <td>-0.017455</td>\n",
              "      <td>...</td>\n",
              "      <td>0.007021</td>\n",
              "      <td>-0.031687</td>\n",
              "      <td>0.338584</td>\n",
              "      <td>-0.061389</td>\n",
              "      <td>0.080901</td>\n",
              "      <td>0.097460</td>\n",
              "      <td>-0.051731</td>\n",
              "      <td>-0.022250</td>\n",
              "      <td>-0.018942</td>\n",
              "      <td>-0.266514</td>\n",
              "    </tr>\n",
              "    <tr>\n",
              "      <th>SSLfinal_State</th>\n",
              "      <td>0.043557</td>\n",
              "      <td>0.041580</td>\n",
              "      <td>0.052711</td>\n",
              "      <td>-0.004449</td>\n",
              "      <td>0.031330</td>\n",
              "      <td>0.372453</td>\n",
              "      <td>0.259734</td>\n",
              "      <td>1.000000</td>\n",
              "      <td>-0.219062</td>\n",
              "      <td>0.005514</td>\n",
              "      <td>...</td>\n",
              "      <td>0.003094</td>\n",
              "      <td>-0.002762</td>\n",
              "      <td>0.365856</td>\n",
              "      <td>-0.137868</td>\n",
              "      <td>0.408251</td>\n",
              "      <td>0.277823</td>\n",
              "      <td>-0.137412</td>\n",
              "      <td>-0.012810</td>\n",
              "      <td>-0.023872</td>\n",
              "      <td>-0.712876</td>\n",
              "    </tr>\n",
              "    <tr>\n",
              "      <th>Domain_registeration_length</th>\n",
              "      <td>-0.098534</td>\n",
              "      <td>-0.326758</td>\n",
              "      <td>-0.089549</td>\n",
              "      <td>-0.001145</td>\n",
              "      <td>-0.092049</td>\n",
              "      <td>-0.139030</td>\n",
              "      <td>-0.049267</td>\n",
              "      <td>-0.219062</td>\n",
              "      <td>1.000000</td>\n",
              "      <td>-0.065988</td>\n",
              "      <td>...</td>\n",
              "      <td>-0.070668</td>\n",
              "      <td>-0.021585</td>\n",
              "      <td>-0.126950</td>\n",
              "      <td>0.033052</td>\n",
              "      <td>-0.201828</td>\n",
              "      <td>-0.039803</td>\n",
              "      <td>0.071476</td>\n",
              "      <td>0.105951</td>\n",
              "      <td>-0.026921</td>\n",
              "      <td>0.260157</td>\n",
              "    </tr>\n",
              "    <tr>\n",
              "      <th>Favicon</th>\n",
              "      <td>0.030326</td>\n",
              "      <td>0.045295</td>\n",
              "      <td>0.014858</td>\n",
              "      <td>-0.116249</td>\n",
              "      <td>0.048790</td>\n",
              "      <td>-0.020312</td>\n",
              "      <td>-0.017455</td>\n",
              "      <td>0.005514</td>\n",
              "      <td>-0.065988</td>\n",
              "      <td>1.000000</td>\n",
              "      <td>...</td>\n",
              "      <td>0.942697</td>\n",
              "      <td>0.643493</td>\n",
              "      <td>0.008309</td>\n",
              "      <td>0.164356</td>\n",
              "      <td>0.079784</td>\n",
              "      <td>-0.032929</td>\n",
              "      <td>-0.024208</td>\n",
              "      <td>0.130500</td>\n",
              "      <td>0.656712</td>\n",
              "      <td>0.005067</td>\n",
              "    </tr>\n",
              "    <tr>\n",
              "      <th>port</th>\n",
              "      <td>0.016614</td>\n",
              "      <td>-0.000402</td>\n",
              "      <td>0.004264</td>\n",
              "      <td>-0.094976</td>\n",
              "      <td>0.030078</td>\n",
              "      <td>-0.005950</td>\n",
              "      <td>-0.036172</td>\n",
              "      <td>-0.040331</td>\n",
              "      <td>-0.027177</td>\n",
              "      <td>0.810932</td>\n",
              "      <td>...</td>\n",
              "      <td>0.752122</td>\n",
              "      <td>0.698097</td>\n",
              "      <td>-0.003699</td>\n",
              "      <td>0.109456</td>\n",
              "      <td>0.055526</td>\n",
              "      <td>-0.025905</td>\n",
              "      <td>-0.015001</td>\n",
              "      <td>0.141609</td>\n",
              "      <td>0.728270</td>\n",
              "      <td>0.038609</td>\n",
              "    </tr>\n",
              "    <tr>\n",
              "      <th>HTTPS_token</th>\n",
              "      <td>0.817315</td>\n",
              "      <td>0.109150</td>\n",
              "      <td>0.795787</td>\n",
              "      <td>-0.075699</td>\n",
              "      <td>0.785873</td>\n",
              "      <td>0.072907</td>\n",
              "      <td>0.018198</td>\n",
              "      <td>0.025851</td>\n",
              "      <td>-0.090863</td>\n",
              "      <td>0.037471</td>\n",
              "      <td>...</td>\n",
              "      <td>0.052170</td>\n",
              "      <td>0.006695</td>\n",
              "      <td>0.044026</td>\n",
              "      <td>0.221514</td>\n",
              "      <td>0.071841</td>\n",
              "      <td>-0.042402</td>\n",
              "      <td>-0.067295</td>\n",
              "      <td>0.133185</td>\n",
              "      <td>0.235538</td>\n",
              "      <td>-0.039071</td>\n",
              "    </tr>\n",
              "    <tr>\n",
              "      <th>Request_URL</th>\n",
              "      <td>0.046739</td>\n",
              "      <td>0.251531</td>\n",
              "      <td>0.044220</td>\n",
              "      <td>-0.000345</td>\n",
              "      <td>0.039871</td>\n",
              "      <td>0.073908</td>\n",
              "      <td>0.062708</td>\n",
              "      <td>0.188101</td>\n",
              "      <td>-0.683894</td>\n",
              "      <td>0.011568</td>\n",
              "      <td>...</td>\n",
              "      <td>0.016514</td>\n",
              "      <td>-0.003116</td>\n",
              "      <td>0.094372</td>\n",
              "      <td>-0.056274</td>\n",
              "      <td>0.229900</td>\n",
              "      <td>0.021668</td>\n",
              "      <td>-0.064721</td>\n",
              "      <td>-0.063752</td>\n",
              "      <td>-0.006489</td>\n",
              "      <td>-0.243759</td>\n",
              "    </tr>\n",
              "    <tr>\n",
              "      <th>URL_of_Anchor</th>\n",
              "      <td>-0.009763</td>\n",
              "      <td>-0.026090</td>\n",
              "      <td>-0.009805</td>\n",
              "      <td>-0.035492</td>\n",
              "      <td>0.001426</td>\n",
              "      <td>0.391195</td>\n",
              "      <td>0.175900</td>\n",
              "      <td>0.556824</td>\n",
              "      <td>-0.181276</td>\n",
              "      <td>-0.040134</td>\n",
              "      <td>...</td>\n",
              "      <td>-0.043681</td>\n",
              "      <td>-0.010410</td>\n",
              "      <td>0.217939</td>\n",
              "      <td>-0.163525</td>\n",
              "      <td>0.487350</td>\n",
              "      <td>0.223506</td>\n",
              "      <td>-0.029060</td>\n",
              "      <td>0.024871</td>\n",
              "      <td>-0.049890</td>\n",
              "      <td>-0.699608</td>\n",
              "    </tr>\n",
              "    <tr>\n",
              "      <th>Links_in_tags</th>\n",
              "      <td>0.163663</td>\n",
              "      <td>0.052526</td>\n",
              "      <td>0.157952</td>\n",
              "      <td>0.199166</td>\n",
              "      <td>0.150902</td>\n",
              "      <td>0.132448</td>\n",
              "      <td>0.109220</td>\n",
              "      <td>0.141122</td>\n",
              "      <td>-0.119723</td>\n",
              "      <td>0.115528</td>\n",
              "      <td>...</td>\n",
              "      <td>0.132304</td>\n",
              "      <td>0.088508</td>\n",
              "      <td>0.137087</td>\n",
              "      <td>-0.030885</td>\n",
              "      <td>0.089380</td>\n",
              "      <td>0.074158</td>\n",
              "      <td>-0.086036</td>\n",
              "      <td>0.011114</td>\n",
              "      <td>0.095194</td>\n",
              "      <td>-0.204575</td>\n",
              "    </tr>\n",
              "    <tr>\n",
              "      <th>SFH</th>\n",
              "      <td>0.101958</td>\n",
              "      <td>0.955345</td>\n",
              "      <td>0.092062</td>\n",
              "      <td>0.079919</td>\n",
              "      <td>0.101427</td>\n",
              "      <td>0.086695</td>\n",
              "      <td>-0.003418</td>\n",
              "      <td>0.051882</td>\n",
              "      <td>-0.345925</td>\n",
              "      <td>0.058913</td>\n",
              "      <td>...</td>\n",
              "      <td>0.050969</td>\n",
              "      <td>0.013637</td>\n",
              "      <td>0.022732</td>\n",
              "      <td>0.043271</td>\n",
              "      <td>0.036368</td>\n",
              "      <td>0.003103</td>\n",
              "      <td>-0.036108</td>\n",
              "      <td>0.014780</td>\n",
              "      <td>0.060791</td>\n",
              "      <td>-0.067708</td>\n",
              "    </tr>\n",
              "    <tr>\n",
              "      <th>Submitting_to_email</th>\n",
              "      <td>0.041750</td>\n",
              "      <td>0.020944</td>\n",
              "      <td>0.051661</td>\n",
              "      <td>-0.105161</td>\n",
              "      <td>0.041380</td>\n",
              "      <td>0.015079</td>\n",
              "      <td>-0.036241</td>\n",
              "      <td>-0.013900</td>\n",
              "      <td>-0.037452</td>\n",
              "      <td>0.695161</td>\n",
              "      <td>...</td>\n",
              "      <td>0.657351</td>\n",
              "      <td>0.603189</td>\n",
              "      <td>0.006117</td>\n",
              "      <td>0.108042</td>\n",
              "      <td>0.037392</td>\n",
              "      <td>-0.031169</td>\n",
              "      <td>-0.013329</td>\n",
              "      <td>0.047235</td>\n",
              "      <td>0.778628</td>\n",
              "      <td>0.012178</td>\n",
              "    </tr>\n",
              "    <tr>\n",
              "      <th>Abnormal_URL</th>\n",
              "      <td>0.793604</td>\n",
              "      <td>0.113288</td>\n",
              "      <td>0.782109</td>\n",
              "      <td>-0.086973</td>\n",
              "      <td>0.765479</td>\n",
              "      <td>0.093816</td>\n",
              "      <td>0.014947</td>\n",
              "      <td>0.035320</td>\n",
              "      <td>-0.076941</td>\n",
              "      <td>0.084622</td>\n",
              "      <td>...</td>\n",
              "      <td>0.100475</td>\n",
              "      <td>0.024947</td>\n",
              "      <td>0.023826</td>\n",
              "      <td>0.200251</td>\n",
              "      <td>0.085074</td>\n",
              "      <td>-0.016856</td>\n",
              "      <td>-0.058485</td>\n",
              "      <td>0.174519</td>\n",
              "      <td>0.439521</td>\n",
              "      <td>-0.052093</td>\n",
              "    </tr>\n",
              "    <tr>\n",
              "      <th>Redirect</th>\n",
              "      <td>0.871217</td>\n",
              "      <td>0.093132</td>\n",
              "      <td>0.838347</td>\n",
              "      <td>-0.082659</td>\n",
              "      <td>0.908683</td>\n",
              "      <td>0.098411</td>\n",
              "      <td>0.010354</td>\n",
              "      <td>0.042827</td>\n",
              "      <td>-0.104226</td>\n",
              "      <td>0.042757</td>\n",
              "      <td>...</td>\n",
              "      <td>0.056560</td>\n",
              "      <td>0.027814</td>\n",
              "      <td>0.020913</td>\n",
              "      <td>0.218879</td>\n",
              "      <td>0.106026</td>\n",
              "      <td>-0.012949</td>\n",
              "      <td>-0.050821</td>\n",
              "      <td>0.252307</td>\n",
              "      <td>0.149846</td>\n",
              "      <td>-0.052760</td>\n",
              "    </tr>\n",
              "    <tr>\n",
              "      <th>on_mouseover</th>\n",
              "      <td>0.068395</td>\n",
              "      <td>0.044352</td>\n",
              "      <td>0.070466</td>\n",
              "      <td>-0.087900</td>\n",
              "      <td>0.097654</td>\n",
              "      <td>-0.037483</td>\n",
              "      <td>0.018635</td>\n",
              "      <td>-0.033410</td>\n",
              "      <td>-0.030713</td>\n",
              "      <td>0.717526</td>\n",
              "      <td>...</td>\n",
              "      <td>0.740491</td>\n",
              "      <td>0.677961</td>\n",
              "      <td>-0.012161</td>\n",
              "      <td>0.135049</td>\n",
              "      <td>0.047926</td>\n",
              "      <td>-0.038621</td>\n",
              "      <td>-0.027303</td>\n",
              "      <td>0.040164</td>\n",
              "      <td>0.598975</td>\n",
              "      <td>0.042706</td>\n",
              "    </tr>\n",
              "    <tr>\n",
              "      <th>RightClick</th>\n",
              "      <td>0.039746</td>\n",
              "      <td>0.009627</td>\n",
              "      <td>0.032088</td>\n",
              "      <td>-0.050515</td>\n",
              "      <td>0.030268</td>\n",
              "      <td>0.001520</td>\n",
              "      <td>-0.042084</td>\n",
              "      <td>-0.023481</td>\n",
              "      <td>-0.045459</td>\n",
              "      <td>0.424228</td>\n",
              "      <td>...</td>\n",
              "      <td>0.425548</td>\n",
              "      <td>0.660536</td>\n",
              "      <td>-0.016487</td>\n",
              "      <td>0.065642</td>\n",
              "      <td>0.044430</td>\n",
              "      <td>-0.026060</td>\n",
              "      <td>-0.014725</td>\n",
              "      <td>0.128596</td>\n",
              "      <td>0.429018</td>\n",
              "      <td>0.006811</td>\n",
              "    </tr>\n",
              "    <tr>\n",
              "      <th>popUpWidnow</th>\n",
              "      <td>0.049965</td>\n",
              "      <td>0.053432</td>\n",
              "      <td>0.045988</td>\n",
              "      <td>-0.118706</td>\n",
              "      <td>0.066721</td>\n",
              "      <td>-0.010835</td>\n",
              "      <td>0.007021</td>\n",
              "      <td>0.003094</td>\n",
              "      <td>-0.070668</td>\n",
              "      <td>0.942697</td>\n",
              "      <td>...</td>\n",
              "      <td>1.000000</td>\n",
              "      <td>0.644246</td>\n",
              "      <td>0.012625</td>\n",
              "      <td>0.169277</td>\n",
              "      <td>0.065400</td>\n",
              "      <td>-0.039746</td>\n",
              "      <td>-0.024593</td>\n",
              "      <td>0.126111</td>\n",
              "      <td>0.624629</td>\n",
              "      <td>0.002677</td>\n",
              "    </tr>\n",
              "    <tr>\n",
              "      <th>Iframe</th>\n",
              "      <td>0.028537</td>\n",
              "      <td>0.012847</td>\n",
              "      <td>0.018059</td>\n",
              "      <td>-0.076476</td>\n",
              "      <td>0.015559</td>\n",
              "      <td>0.011677</td>\n",
              "      <td>-0.031687</td>\n",
              "      <td>-0.002762</td>\n",
              "      <td>-0.021585</td>\n",
              "      <td>0.643493</td>\n",
              "      <td>...</td>\n",
              "      <td>0.644246</td>\n",
              "      <td>1.000000</td>\n",
              "      <td>-0.016888</td>\n",
              "      <td>0.083949</td>\n",
              "      <td>0.052646</td>\n",
              "      <td>-0.033089</td>\n",
              "      <td>-0.010414</td>\n",
              "      <td>0.144012</td>\n",
              "      <td>0.563885</td>\n",
              "      <td>-0.007565</td>\n",
              "    </tr>\n",
              "    <tr>\n",
              "      <th>age_of_domain</th>\n",
              "      <td>0.050481</td>\n",
              "      <td>0.014283</td>\n",
              "      <td>0.056724</td>\n",
              "      <td>0.035179</td>\n",
              "      <td>0.037953</td>\n",
              "      <td>0.178187</td>\n",
              "      <td>0.338584</td>\n",
              "      <td>0.365856</td>\n",
              "      <td>-0.126950</td>\n",
              "      <td>0.008309</td>\n",
              "      <td>...</td>\n",
              "      <td>0.012625</td>\n",
              "      <td>-0.016888</td>\n",
              "      <td>1.000000</td>\n",
              "      <td>-0.035377</td>\n",
              "      <td>0.112470</td>\n",
              "      <td>0.124503</td>\n",
              "      <td>-0.078618</td>\n",
              "      <td>0.046290</td>\n",
              "      <td>-0.018722</td>\n",
              "      <td>-0.300330</td>\n",
              "    </tr>\n",
              "    <tr>\n",
              "      <th>DNSRecord</th>\n",
              "      <td>0.228888</td>\n",
              "      <td>0.051523</td>\n",
              "      <td>0.241016</td>\n",
              "      <td>-0.107532</td>\n",
              "      <td>0.233517</td>\n",
              "      <td>-0.070127</td>\n",
              "      <td>-0.061389</td>\n",
              "      <td>-0.137868</td>\n",
              "      <td>0.033052</td>\n",
              "      <td>0.164356</td>\n",
              "      <td>...</td>\n",
              "      <td>0.169277</td>\n",
              "      <td>0.083949</td>\n",
              "      <td>-0.035377</td>\n",
              "      <td>1.000000</td>\n",
              "      <td>-0.112017</td>\n",
              "      <td>-0.104896</td>\n",
              "      <td>-0.002519</td>\n",
              "      <td>0.475161</td>\n",
              "      <td>0.136009</td>\n",
              "      <td>0.183854</td>\n",
              "    </tr>\n",
              "    <tr>\n",
              "      <th>web_traffic</th>\n",
              "      <td>0.106839</td>\n",
              "      <td>0.024704</td>\n",
              "      <td>0.095182</td>\n",
              "      <td>-0.066232</td>\n",
              "      <td>0.112327</td>\n",
              "      <td>0.241684</td>\n",
              "      <td>0.080901</td>\n",
              "      <td>0.408251</td>\n",
              "      <td>-0.201828</td>\n",
              "      <td>0.079784</td>\n",
              "      <td>...</td>\n",
              "      <td>0.065400</td>\n",
              "      <td>0.052646</td>\n",
              "      <td>0.112470</td>\n",
              "      <td>-0.112017</td>\n",
              "      <td>1.000000</td>\n",
              "      <td>0.184583</td>\n",
              "      <td>-0.068261</td>\n",
              "      <td>-0.001423</td>\n",
              "      <td>0.056010</td>\n",
              "      <td>-0.535545</td>\n",
              "    </tr>\n",
              "    <tr>\n",
              "      <th>Page_Rank</th>\n",
              "      <td>-0.016420</td>\n",
              "      <td>0.000726</td>\n",
              "      <td>-0.027334</td>\n",
              "      <td>0.038937</td>\n",
              "      <td>-0.015349</td>\n",
              "      <td>0.219008</td>\n",
              "      <td>0.097460</td>\n",
              "      <td>0.277823</td>\n",
              "      <td>-0.039803</td>\n",
              "      <td>-0.032929</td>\n",
              "      <td>...</td>\n",
              "      <td>-0.039746</td>\n",
              "      <td>-0.033089</td>\n",
              "      <td>0.124503</td>\n",
              "      <td>-0.104896</td>\n",
              "      <td>0.184583</td>\n",
              "      <td>1.000000</td>\n",
              "      <td>0.022426</td>\n",
              "      <td>-0.030756</td>\n",
              "      <td>-0.044962</td>\n",
              "      <td>-0.350812</td>\n",
              "    </tr>\n",
              "    <tr>\n",
              "      <th>Google_Index</th>\n",
              "      <td>-0.047548</td>\n",
              "      <td>-0.026701</td>\n",
              "      <td>-0.043555</td>\n",
              "      <td>-0.029553</td>\n",
              "      <td>-0.046161</td>\n",
              "      <td>-0.164327</td>\n",
              "      <td>-0.051731</td>\n",
              "      <td>-0.137412</td>\n",
              "      <td>0.071476</td>\n",
              "      <td>-0.024208</td>\n",
              "      <td>...</td>\n",
              "      <td>-0.024593</td>\n",
              "      <td>-0.010414</td>\n",
              "      <td>-0.078618</td>\n",
              "      <td>-0.002519</td>\n",
              "      <td>-0.068261</td>\n",
              "      <td>0.022426</td>\n",
              "      <td>1.000000</td>\n",
              "      <td>-0.014767</td>\n",
              "      <td>-0.025882</td>\n",
              "      <td>0.151763</td>\n",
              "    </tr>\n",
              "    <tr>\n",
              "      <th>Links_pointing_to_page</th>\n",
              "      <td>0.244556</td>\n",
              "      <td>-0.007836</td>\n",
              "      <td>0.213561</td>\n",
              "      <td>-0.088749</td>\n",
              "      <td>0.202975</td>\n",
              "      <td>0.069498</td>\n",
              "      <td>-0.022250</td>\n",
              "      <td>-0.012810</td>\n",
              "      <td>0.105951</td>\n",
              "      <td>0.130500</td>\n",
              "      <td>...</td>\n",
              "      <td>0.126111</td>\n",
              "      <td>0.144012</td>\n",
              "      <td>0.046290</td>\n",
              "      <td>0.475161</td>\n",
              "      <td>-0.001423</td>\n",
              "      <td>-0.030756</td>\n",
              "      <td>-0.014767</td>\n",
              "      <td>1.000000</td>\n",
              "      <td>0.105349</td>\n",
              "      <td>-0.035779</td>\n",
              "    </tr>\n",
              "    <tr>\n",
              "      <th>Statistical_report</th>\n",
              "      <td>0.215134</td>\n",
              "      <td>0.084554</td>\n",
              "      <td>0.219520</td>\n",
              "      <td>-0.102878</td>\n",
              "      <td>0.207816</td>\n",
              "      <td>0.012800</td>\n",
              "      <td>-0.018942</td>\n",
              "      <td>-0.023872</td>\n",
              "      <td>-0.026921</td>\n",
              "      <td>0.656712</td>\n",
              "      <td>...</td>\n",
              "      <td>0.624629</td>\n",
              "      <td>0.563885</td>\n",
              "      <td>-0.018722</td>\n",
              "      <td>0.136009</td>\n",
              "      <td>0.056010</td>\n",
              "      <td>-0.044962</td>\n",
              "      <td>-0.025882</td>\n",
              "      <td>0.105349</td>\n",
              "      <td>1.000000</td>\n",
              "      <td>0.021377</td>\n",
              "    </tr>\n",
              "    <tr>\n",
              "      <th>Result</th>\n",
              "      <td>-0.061623</td>\n",
              "      <td>-0.055605</td>\n",
              "      <td>-0.061175</td>\n",
              "      <td>0.008336</td>\n",
              "      <td>-0.042536</td>\n",
              "      <td>-0.537020</td>\n",
              "      <td>-0.266514</td>\n",
              "      <td>-0.712876</td>\n",
              "      <td>0.260157</td>\n",
              "      <td>0.005067</td>\n",
              "      <td>...</td>\n",
              "      <td>0.002677</td>\n",
              "      <td>-0.007565</td>\n",
              "      <td>-0.300330</td>\n",
              "      <td>0.183854</td>\n",
              "      <td>-0.535545</td>\n",
              "      <td>-0.350812</td>\n",
              "      <td>0.151763</td>\n",
              "      <td>-0.035779</td>\n",
              "      <td>0.021377</td>\n",
              "      <td>1.000000</td>\n",
              "    </tr>\n",
              "  </tbody>\n",
              "</table>\n",
              "<p>31 rows × 31 columns</p>\n",
              "</div>"
            ],
            "text/plain": [
              "                             having_IP_Address  URL_Length  \\\n",
              "having_IP_Address                     1.000000    0.103582   \n",
              "URL_Length                            0.103582    1.000000   \n",
              "Shortining_Service                    0.946315    0.119039   \n",
              "having_At_Symbol                     -0.085825    0.069272   \n",
              "double_slash_redirecting              0.920203    0.101536   \n",
              "Prefix_Suffix                         0.108087    0.068191   \n",
              "having_Sub_Domain                     0.018615   -0.012365   \n",
              "SSLfinal_State                        0.043557    0.041580   \n",
              "Domain_registeration_length          -0.098534   -0.326758   \n",
              "Favicon                               0.030326    0.045295   \n",
              "port                                  0.016614   -0.000402   \n",
              "HTTPS_token                           0.817315    0.109150   \n",
              "Request_URL                           0.046739    0.251531   \n",
              "URL_of_Anchor                        -0.009763   -0.026090   \n",
              "Links_in_tags                         0.163663    0.052526   \n",
              "SFH                                   0.101958    0.955345   \n",
              "Submitting_to_email                   0.041750    0.020944   \n",
              "Abnormal_URL                          0.793604    0.113288   \n",
              "Redirect                              0.871217    0.093132   \n",
              "on_mouseover                          0.068395    0.044352   \n",
              "RightClick                            0.039746    0.009627   \n",
              "popUpWidnow                           0.049965    0.053432   \n",
              "Iframe                                0.028537    0.012847   \n",
              "age_of_domain                         0.050481    0.014283   \n",
              "DNSRecord                             0.228888    0.051523   \n",
              "web_traffic                           0.106839    0.024704   \n",
              "Page_Rank                            -0.016420    0.000726   \n",
              "Google_Index                         -0.047548   -0.026701   \n",
              "Links_pointing_to_page                0.244556   -0.007836   \n",
              "Statistical_report                    0.215134    0.084554   \n",
              "Result                               -0.061623   -0.055605   \n",
              "\n",
              "                             Shortining_Service  having_At_Symbol  \\\n",
              "having_IP_Address                      0.946315         -0.085825   \n",
              "URL_Length                             0.119039          0.069272   \n",
              "Shortining_Service                     1.000000         -0.068114   \n",
              "having_At_Symbol                      -0.068114          1.000000   \n",
              "double_slash_redirecting               0.876519         -0.090966   \n",
              "Prefix_Suffix                          0.111831          0.026929   \n",
              "having_Sub_Domain                      0.027941          0.001966   \n",
              "SSLfinal_State                         0.052711         -0.004449   \n",
              "Domain_registeration_length           -0.089549         -0.001145   \n",
              "Favicon                                0.014858         -0.116249   \n",
              "port                                   0.004264         -0.094976   \n",
              "HTTPS_token                            0.795787         -0.075699   \n",
              "Request_URL                            0.044220         -0.000345   \n",
              "URL_of_Anchor                         -0.009805         -0.035492   \n",
              "Links_in_tags                          0.157952          0.199166   \n",
              "SFH                                    0.092062          0.079919   \n",
              "Submitting_to_email                    0.051661         -0.105161   \n",
              "Abnormal_URL                           0.782109         -0.086973   \n",
              "Redirect                               0.838347         -0.082659   \n",
              "on_mouseover                           0.070466         -0.087900   \n",
              "RightClick                             0.032088         -0.050515   \n",
              "popUpWidnow                            0.045988         -0.118706   \n",
              "Iframe                                 0.018059         -0.076476   \n",
              "age_of_domain                          0.056724          0.035179   \n",
              "DNSRecord                              0.241016         -0.107532   \n",
              "web_traffic                            0.095182         -0.066232   \n",
              "Page_Rank                             -0.027334          0.038937   \n",
              "Google_Index                          -0.043555         -0.029553   \n",
              "Links_pointing_to_page                 0.213561         -0.088749   \n",
              "Statistical_report                     0.219520         -0.102878   \n",
              "Result                                -0.061175          0.008336   \n",
              "\n",
              "                             double_slash_redirecting  Prefix_Suffix  \\\n",
              "having_IP_Address                            0.920203       0.108087   \n",
              "URL_Length                                   0.101536       0.068191   \n",
              "Shortining_Service                           0.876519       0.111831   \n",
              "having_At_Symbol                            -0.090966       0.026929   \n",
              "double_slash_redirecting                     1.000000       0.106398   \n",
              "Prefix_Suffix                                0.106398       1.000000   \n",
              "having_Sub_Domain                            0.020216       0.115494   \n",
              "SSLfinal_State                               0.031330       0.372453   \n",
              "Domain_registeration_length                 -0.092049      -0.139030   \n",
              "Favicon                                      0.048790      -0.020312   \n",
              "port                                         0.030078      -0.005950   \n",
              "HTTPS_token                                  0.785873       0.072907   \n",
              "Request_URL                                  0.039871       0.073908   \n",
              "URL_of_Anchor                                0.001426       0.391195   \n",
              "Links_in_tags                                0.150902       0.132448   \n",
              "SFH                                          0.101427       0.086695   \n",
              "Submitting_to_email                          0.041380       0.015079   \n",
              "Abnormal_URL                                 0.765479       0.093816   \n",
              "Redirect                                     0.908683       0.098411   \n",
              "on_mouseover                                 0.097654      -0.037483   \n",
              "RightClick                                   0.030268       0.001520   \n",
              "popUpWidnow                                  0.066721      -0.010835   \n",
              "Iframe                                       0.015559       0.011677   \n",
              "age_of_domain                                0.037953       0.178187   \n",
              "DNSRecord                                    0.233517      -0.070127   \n",
              "web_traffic                                  0.112327       0.241684   \n",
              "Page_Rank                                   -0.015349       0.219008   \n",
              "Google_Index                                -0.046161      -0.164327   \n",
              "Links_pointing_to_page                       0.202975       0.069498   \n",
              "Statistical_report                           0.207816       0.012800   \n",
              "Result                                      -0.042536      -0.537020   \n",
              "\n",
              "                             having_Sub_Domain  SSLfinal_State  \\\n",
              "having_IP_Address                     0.018615        0.043557   \n",
              "URL_Length                           -0.012365        0.041580   \n",
              "Shortining_Service                    0.027941        0.052711   \n",
              "having_At_Symbol                      0.001966       -0.004449   \n",
              "double_slash_redirecting              0.020216        0.031330   \n",
              "Prefix_Suffix                         0.115494        0.372453   \n",
              "having_Sub_Domain                     1.000000        0.259734   \n",
              "SSLfinal_State                        0.259734        1.000000   \n",
              "Domain_registeration_length          -0.049267       -0.219062   \n",
              "Favicon                              -0.017455        0.005514   \n",
              "port                                 -0.036172       -0.040331   \n",
              "HTTPS_token                           0.018198        0.025851   \n",
              "Request_URL                           0.062708        0.188101   \n",
              "URL_of_Anchor                         0.175900        0.556824   \n",
              "Links_in_tags                         0.109220        0.141122   \n",
              "SFH                                  -0.003418        0.051882   \n",
              "Submitting_to_email                  -0.036241       -0.013900   \n",
              "Abnormal_URL                          0.014947        0.035320   \n",
              "Redirect                              0.010354        0.042827   \n",
              "on_mouseover                          0.018635       -0.033410   \n",
              "RightClick                           -0.042084       -0.023481   \n",
              "popUpWidnow                           0.007021        0.003094   \n",
              "Iframe                               -0.031687       -0.002762   \n",
              "age_of_domain                         0.338584        0.365856   \n",
              "DNSRecord                            -0.061389       -0.137868   \n",
              "web_traffic                           0.080901        0.408251   \n",
              "Page_Rank                             0.097460        0.277823   \n",
              "Google_Index                         -0.051731       -0.137412   \n",
              "Links_pointing_to_page               -0.022250       -0.012810   \n",
              "Statistical_report                   -0.018942       -0.023872   \n",
              "Result                               -0.266514       -0.712876   \n",
              "\n",
              "                             Domain_registeration_length   Favicon  ...  \\\n",
              "having_IP_Address                              -0.098534  0.030326  ...   \n",
              "URL_Length                                     -0.326758  0.045295  ...   \n",
              "Shortining_Service                             -0.089549  0.014858  ...   \n",
              "having_At_Symbol                               -0.001145 -0.116249  ...   \n",
              "double_slash_redirecting                       -0.092049  0.048790  ...   \n",
              "Prefix_Suffix                                  -0.139030 -0.020312  ...   \n",
              "having_Sub_Domain                              -0.049267 -0.017455  ...   \n",
              "SSLfinal_State                                 -0.219062  0.005514  ...   \n",
              "Domain_registeration_length                     1.000000 -0.065988  ...   \n",
              "Favicon                                        -0.065988  1.000000  ...   \n",
              "port                                           -0.027177  0.810932  ...   \n",
              "HTTPS_token                                    -0.090863  0.037471  ...   \n",
              "Request_URL                                    -0.683894  0.011568  ...   \n",
              "URL_of_Anchor                                  -0.181276 -0.040134  ...   \n",
              "Links_in_tags                                  -0.119723  0.115528  ...   \n",
              "SFH                                            -0.345925  0.058913  ...   \n",
              "Submitting_to_email                            -0.037452  0.695161  ...   \n",
              "Abnormal_URL                                   -0.076941  0.084622  ...   \n",
              "Redirect                                       -0.104226  0.042757  ...   \n",
              "on_mouseover                                   -0.030713  0.717526  ...   \n",
              "RightClick                                     -0.045459  0.424228  ...   \n",
              "popUpWidnow                                    -0.070668  0.942697  ...   \n",
              "Iframe                                         -0.021585  0.643493  ...   \n",
              "age_of_domain                                  -0.126950  0.008309  ...   \n",
              "DNSRecord                                       0.033052  0.164356  ...   \n",
              "web_traffic                                    -0.201828  0.079784  ...   \n",
              "Page_Rank                                      -0.039803 -0.032929  ...   \n",
              "Google_Index                                    0.071476 -0.024208  ...   \n",
              "Links_pointing_to_page                          0.105951  0.130500  ...   \n",
              "Statistical_report                             -0.026921  0.656712  ...   \n",
              "Result                                          0.260157  0.005067  ...   \n",
              "\n",
              "                             popUpWidnow    Iframe  age_of_domain  DNSRecord  \\\n",
              "having_IP_Address               0.049965  0.028537       0.050481   0.228888   \n",
              "URL_Length                      0.053432  0.012847       0.014283   0.051523   \n",
              "Shortining_Service              0.045988  0.018059       0.056724   0.241016   \n",
              "having_At_Symbol               -0.118706 -0.076476       0.035179  -0.107532   \n",
              "double_slash_redirecting        0.066721  0.015559       0.037953   0.233517   \n",
              "Prefix_Suffix                  -0.010835  0.011677       0.178187  -0.070127   \n",
              "having_Sub_Domain               0.007021 -0.031687       0.338584  -0.061389   \n",
              "SSLfinal_State                  0.003094 -0.002762       0.365856  -0.137868   \n",
              "Domain_registeration_length    -0.070668 -0.021585      -0.126950   0.033052   \n",
              "Favicon                         0.942697  0.643493       0.008309   0.164356   \n",
              "port                            0.752122  0.698097      -0.003699   0.109456   \n",
              "HTTPS_token                     0.052170  0.006695       0.044026   0.221514   \n",
              "Request_URL                     0.016514 -0.003116       0.094372  -0.056274   \n",
              "URL_of_Anchor                  -0.043681 -0.010410       0.217939  -0.163525   \n",
              "Links_in_tags                   0.132304  0.088508       0.137087  -0.030885   \n",
              "SFH                             0.050969  0.013637       0.022732   0.043271   \n",
              "Submitting_to_email             0.657351  0.603189       0.006117   0.108042   \n",
              "Abnormal_URL                    0.100475  0.024947       0.023826   0.200251   \n",
              "Redirect                        0.056560  0.027814       0.020913   0.218879   \n",
              "on_mouseover                    0.740491  0.677961      -0.012161   0.135049   \n",
              "RightClick                      0.425548  0.660536      -0.016487   0.065642   \n",
              "popUpWidnow                     1.000000  0.644246       0.012625   0.169277   \n",
              "Iframe                          0.644246  1.000000      -0.016888   0.083949   \n",
              "age_of_domain                   0.012625 -0.016888       1.000000  -0.035377   \n",
              "DNSRecord                       0.169277  0.083949      -0.035377   1.000000   \n",
              "web_traffic                     0.065400  0.052646       0.112470  -0.112017   \n",
              "Page_Rank                      -0.039746 -0.033089       0.124503  -0.104896   \n",
              "Google_Index                   -0.024593 -0.010414      -0.078618  -0.002519   \n",
              "Links_pointing_to_page          0.126111  0.144012       0.046290   0.475161   \n",
              "Statistical_report              0.624629  0.563885      -0.018722   0.136009   \n",
              "Result                          0.002677 -0.007565      -0.300330   0.183854   \n",
              "\n",
              "                             web_traffic  Page_Rank  Google_Index  \\\n",
              "having_IP_Address               0.106839  -0.016420     -0.047548   \n",
              "URL_Length                      0.024704   0.000726     -0.026701   \n",
              "Shortining_Service              0.095182  -0.027334     -0.043555   \n",
              "having_At_Symbol               -0.066232   0.038937     -0.029553   \n",
              "double_slash_redirecting        0.112327  -0.015349     -0.046161   \n",
              "Prefix_Suffix                   0.241684   0.219008     -0.164327   \n",
              "having_Sub_Domain               0.080901   0.097460     -0.051731   \n",
              "SSLfinal_State                  0.408251   0.277823     -0.137412   \n",
              "Domain_registeration_length    -0.201828  -0.039803      0.071476   \n",
              "Favicon                         0.079784  -0.032929     -0.024208   \n",
              "port                            0.055526  -0.025905     -0.015001   \n",
              "HTTPS_token                     0.071841  -0.042402     -0.067295   \n",
              "Request_URL                     0.229900   0.021668     -0.064721   \n",
              "URL_of_Anchor                   0.487350   0.223506     -0.029060   \n",
              "Links_in_tags                   0.089380   0.074158     -0.086036   \n",
              "SFH                             0.036368   0.003103     -0.036108   \n",
              "Submitting_to_email             0.037392  -0.031169     -0.013329   \n",
              "Abnormal_URL                    0.085074  -0.016856     -0.058485   \n",
              "Redirect                        0.106026  -0.012949     -0.050821   \n",
              "on_mouseover                    0.047926  -0.038621     -0.027303   \n",
              "RightClick                      0.044430  -0.026060     -0.014725   \n",
              "popUpWidnow                     0.065400  -0.039746     -0.024593   \n",
              "Iframe                          0.052646  -0.033089     -0.010414   \n",
              "age_of_domain                   0.112470   0.124503     -0.078618   \n",
              "DNSRecord                      -0.112017  -0.104896     -0.002519   \n",
              "web_traffic                     1.000000   0.184583     -0.068261   \n",
              "Page_Rank                       0.184583   1.000000      0.022426   \n",
              "Google_Index                   -0.068261   0.022426      1.000000   \n",
              "Links_pointing_to_page         -0.001423  -0.030756     -0.014767   \n",
              "Statistical_report              0.056010  -0.044962     -0.025882   \n",
              "Result                         -0.535545  -0.350812      0.151763   \n",
              "\n",
              "                             Links_pointing_to_page  Statistical_report  \\\n",
              "having_IP_Address                          0.244556            0.215134   \n",
              "URL_Length                                -0.007836            0.084554   \n",
              "Shortining_Service                         0.213561            0.219520   \n",
              "having_At_Symbol                          -0.088749           -0.102878   \n",
              "double_slash_redirecting                   0.202975            0.207816   \n",
              "Prefix_Suffix                              0.069498            0.012800   \n",
              "having_Sub_Domain                         -0.022250           -0.018942   \n",
              "SSLfinal_State                            -0.012810           -0.023872   \n",
              "Domain_registeration_length                0.105951           -0.026921   \n",
              "Favicon                                    0.130500            0.656712   \n",
              "port                                       0.141609            0.728270   \n",
              "HTTPS_token                                0.133185            0.235538   \n",
              "Request_URL                               -0.063752           -0.006489   \n",
              "URL_of_Anchor                              0.024871           -0.049890   \n",
              "Links_in_tags                              0.011114            0.095194   \n",
              "SFH                                        0.014780            0.060791   \n",
              "Submitting_to_email                        0.047235            0.778628   \n",
              "Abnormal_URL                               0.174519            0.439521   \n",
              "Redirect                                   0.252307            0.149846   \n",
              "on_mouseover                               0.040164            0.598975   \n",
              "RightClick                                 0.128596            0.429018   \n",
              "popUpWidnow                                0.126111            0.624629   \n",
              "Iframe                                     0.144012            0.563885   \n",
              "age_of_domain                              0.046290           -0.018722   \n",
              "DNSRecord                                  0.475161            0.136009   \n",
              "web_traffic                               -0.001423            0.056010   \n",
              "Page_Rank                                 -0.030756           -0.044962   \n",
              "Google_Index                              -0.014767           -0.025882   \n",
              "Links_pointing_to_page                     1.000000            0.105349   \n",
              "Statistical_report                         0.105349            1.000000   \n",
              "Result                                    -0.035779            0.021377   \n",
              "\n",
              "                               Result  \n",
              "having_IP_Address           -0.061623  \n",
              "URL_Length                  -0.055605  \n",
              "Shortining_Service          -0.061175  \n",
              "having_At_Symbol             0.008336  \n",
              "double_slash_redirecting    -0.042536  \n",
              "Prefix_Suffix               -0.537020  \n",
              "having_Sub_Domain           -0.266514  \n",
              "SSLfinal_State              -0.712876  \n",
              "Domain_registeration_length  0.260157  \n",
              "Favicon                      0.005067  \n",
              "port                         0.038609  \n",
              "HTTPS_token                 -0.039071  \n",
              "Request_URL                 -0.243759  \n",
              "URL_of_Anchor               -0.699608  \n",
              "Links_in_tags               -0.204575  \n",
              "SFH                         -0.067708  \n",
              "Submitting_to_email          0.012178  \n",
              "Abnormal_URL                -0.052093  \n",
              "Redirect                    -0.052760  \n",
              "on_mouseover                 0.042706  \n",
              "RightClick                   0.006811  \n",
              "popUpWidnow                  0.002677  \n",
              "Iframe                      -0.007565  \n",
              "age_of_domain               -0.300330  \n",
              "DNSRecord                    0.183854  \n",
              "web_traffic                 -0.535545  \n",
              "Page_Rank                   -0.350812  \n",
              "Google_Index                 0.151763  \n",
              "Links_pointing_to_page      -0.035779  \n",
              "Statistical_report           0.021377  \n",
              "Result                       1.000000  \n",
              "\n",
              "[31 rows x 31 columns]"
            ]
          },
          "metadata": {
            "tags": []
          },
          "execution_count": 55
        }
      ]
    },
    {
      "metadata": {
        "id": "A8ztUnk_T_P9",
        "colab_type": "code",
        "colab": {
          "base_uri": "https://localhost:8080/",
          "height": 585
        },
        "outputId": "cc3ebc98-d0b4-4958-f506-99bbf6354eb3"
      },
      "cell_type": "code",
      "source": [
        "import seaborn as sns\n",
        "plt.figure(figsize=(7,7)) \n",
        "sns.heatmap(data.corr(), cmap='BuGn')\n"
      ],
      "execution_count": 52,
      "outputs": [
        {
          "output_type": "execute_result",
          "data": {
            "text/plain": [
              "<matplotlib.axes._subplots.AxesSubplot at 0x7f236a9ea4e0>"
            ]
          },
          "metadata": {
            "tags": []
          },
          "execution_count": 52
        },
        {
          "output_type": "display_data",
          "data": {
            "image/png": "[encoded data removed]",
            "text/plain": [
              "<Figure size 504x504 with 2 Axes>"
            ]
          },
          "metadata": {
            "tags": []
          }
        }
      ]
    },
    {
      "metadata": {
        "id": "ykHgJbzmeODW",
        "colab_type": "code",
        "colab": {}
      },
      "cell_type": "code",
      "source": [
        "Y=data.Result\n",
        "df=pd.DataFrame(data)\n",
        "del df[\"Result\"]"
      ],
      "execution_count": 0,
      "outputs": []
    },
    {
      "metadata": {
        "id": "-OPFsp4Ies6B",
        "colab_type": "code",
        "outputId": "9aef3276-02ba-4801-b229-c4b9a60ba27f",
        "colab": {
          "base_uri": "https://localhost:8080/",
          "height": 129
        }
      },
      "cell_type": "code",
      "source": [
        "df.head(1)"
      ],
      "execution_count": 31,
      "outputs": [
        {
          "output_type": "execute_result",
          "data": {
            "text/html": [
              "<div>\n",
              "<style scoped>\n",
              "    .dataframe tbody tr th:only-of-type {\n",
              "        vertical-align: middle;\n",
              "    }\n",
              "\n",
              "    .dataframe tbody tr th {\n",
              "        vertical-align: top;\n",
              "    }\n",
              "\n",
              "    .dataframe thead th {\n",
              "        text-align: right;\n",
              "    }\n",
              "</style>\n",
              "<table border=\"1\" class=\"dataframe\">\n",
              "  <thead>\n",
              "    <tr style=\"text-align: right;\">\n",
              "      <th></th>\n",
              "      <th>having_IP_Address</th>\n",
              "      <th>URL_Length</th>\n",
              "      <th>Shortining_Service</th>\n",
              "      <th>having_At_Symbol</th>\n",
              "      <th>double_slash_redirecting</th>\n",
              "      <th>Prefix_Suffix</th>\n",
              "      <th>having_Sub_Domain</th>\n",
              "      <th>SSLfinal_State</th>\n",
              "      <th>Domain_registeration_length</th>\n",
              "      <th>Favicon</th>\n",
              "      <th>...</th>\n",
              "      <th>RightClick</th>\n",
              "      <th>popUpWidnow</th>\n",
              "      <th>Iframe</th>\n",
              "      <th>age_of_domain</th>\n",
              "      <th>DNSRecord</th>\n",
              "      <th>web_traffic</th>\n",
              "      <th>Page_Rank</th>\n",
              "      <th>Google_Index</th>\n",
              "      <th>Links_pointing_to_page</th>\n",
              "      <th>Statistical_report</th>\n",
              "    </tr>\n",
              "  </thead>\n",
              "  <tbody>\n",
              "    <tr>\n",
              "      <th>0</th>\n",
              "      <td>1</td>\n",
              "      <td>1</td>\n",
              "      <td>0</td>\n",
              "      <td>0</td>\n",
              "      <td>1</td>\n",
              "      <td>-1</td>\n",
              "      <td>-1</td>\n",
              "      <td>-1</td>\n",
              "      <td>0</td>\n",
              "      <td>0</td>\n",
              "      <td>...</td>\n",
              "      <td>0</td>\n",
              "      <td>0</td>\n",
              "      <td>0</td>\n",
              "      <td>-1</td>\n",
              "      <td>1</td>\n",
              "      <td>-1</td>\n",
              "      <td>-1</td>\n",
              "      <td>0</td>\n",
              "      <td>1</td>\n",
              "      <td>1</td>\n",
              "    </tr>\n",
              "  </tbody>\n",
              "</table>\n",
              "<p>1 rows × 30 columns</p>\n",
              "</div>"
            ],
            "text/plain": [
              "   having_IP_Address  URL_Length  Shortining_Service  having_At_Symbol  \\\n",
              "0                  1           1                   0                 0   \n",
              "\n",
              "   double_slash_redirecting  Prefix_Suffix  having_Sub_Domain  SSLfinal_State  \\\n",
              "0                         1             -1                 -1              -1   \n",
              "\n",
              "   Domain_registeration_length  Favicon  ...  RightClick  popUpWidnow  Iframe  \\\n",
              "0                            0        0  ...           0            0       0   \n",
              "\n",
              "   age_of_domain  DNSRecord  web_traffic  Page_Rank  Google_Index  \\\n",
              "0             -1          1           -1         -1             0   \n",
              "\n",
              "   Links_pointing_to_page  Statistical_report  \n",
              "0                       1                   1  \n",
              "\n",
              "[1 rows x 30 columns]"
            ]
          },
          "metadata": {
            "tags": []
          },
          "execution_count": 31
        }
      ]
    },
    {
      "metadata": {
        "id": "i_VbzWbGTMpf",
        "colab_type": "text"
      },
      "cell_type": "markdown",
      "source": [
        "Splitting the data for train and test . **80% - Train and 20% - Test**"
      ]
    },
    {
      "metadata": {
        "id": "tGqqQYhzftw8",
        "colab_type": "code",
        "outputId": "4a2872f7-8f9c-48bf-b190-cc88c0402581",
        "colab": {
          "base_uri": "https://localhost:8080/",
          "height": 35
        }
      },
      "cell_type": "code",
      "source": [
        "#Train test split\n",
        "from sklearn.model_selection import train_test_split\n",
        "Xtrain, Xval, ytrain, yval = train_test_split(df, Y, test_size=0.2)\n",
        "Xtrain.shape, ytrain.shape, Xval.shape, yval.shape"
      ],
      "execution_count": 32,
      "outputs": [
        {
          "output_type": "execute_result",
          "data": {
            "text/plain": [
              "((1964, 30), (1964,), (492, 30), (492,))"
            ]
          },
          "metadata": {
            "tags": []
          },
          "execution_count": 32
        }
      ]
    },
    {
      "metadata": {
        "id": "5AzgTXEBTYbw",
        "colab_type": "text"
      },
      "cell_type": "markdown",
      "source": [
        "Fitting the Decision tree model"
      ]
    },
    {
      "metadata": {
        "id": "OhFWMDwIjap1",
        "colab_type": "code",
        "colab": {}
      },
      "cell_type": "code",
      "source": [
        "from sklearn.tree import DecisionTreeClassifier\n",
        "from sklearn.metrics import accuracy_score\n",
        "from sklearn import tree"
      ],
      "execution_count": 0,
      "outputs": []
    },
    {
      "metadata": {
        "id": "BjskeQSGgITF",
        "colab_type": "code",
        "outputId": "f547123f-5f44-4bdb-b4dc-f54e9d1cf802",
        "colab": {
          "base_uri": "https://localhost:8080/",
          "height": 121
        }
      },
      "cell_type": "code",
      "source": [
        "clf_gini = DecisionTreeClassifier(criterion = \"gini\", random_state = 100,\n",
        "                               max_depth=3, min_samples_leaf=5)\n",
        "clf_gini.fit(Xtrain, ytrain)"
      ],
      "execution_count": 34,
      "outputs": [
        {
          "output_type": "execute_result",
          "data": {
            "text/plain": [
              "DecisionTreeClassifier(class_weight=None, criterion='gini', max_depth=3,\n",
              "            max_features=None, max_leaf_nodes=None,\n",
              "            min_impurity_decrease=0.0, min_impurity_split=None,\n",
              "            min_samples_leaf=5, min_samples_split=2,\n",
              "            min_weight_fraction_leaf=0.0, presort=False, random_state=100,\n",
              "            splitter='best')"
            ]
          },
          "metadata": {
            "tags": []
          },
          "execution_count": 34
        }
      ]
    },
    {
      "metadata": {
        "id": "eL8SiW86g1rv",
        "colab_type": "code",
        "outputId": "9c2597cf-0ac0-4834-fc81-af6ab77c25a2",
        "colab": {
          "base_uri": "https://localhost:8080/",
          "height": 121
        }
      },
      "cell_type": "code",
      "source": [
        "clf_entropy = DecisionTreeClassifier(criterion = \"entropy\", random_state = 100,\n",
        " max_depth=3, min_samples_leaf=5)\n",
        "clf_entropy.fit(Xtrain, ytrain)"
      ],
      "execution_count": 35,
      "outputs": [
        {
          "output_type": "execute_result",
          "data": {
            "text/plain": [
              "DecisionTreeClassifier(class_weight=None, criterion='entropy', max_depth=3,\n",
              "            max_features=None, max_leaf_nodes=None,\n",
              "            min_impurity_decrease=0.0, min_impurity_split=None,\n",
              "            min_samples_leaf=5, min_samples_split=2,\n",
              "            min_weight_fraction_leaf=0.0, presort=False, random_state=100,\n",
              "            splitter='best')"
            ]
          },
          "metadata": {
            "tags": []
          },
          "execution_count": 35
        }
      ]
    },
    {
      "metadata": {
        "id": "vRfI-CGqThIe",
        "colab_type": "text"
      },
      "cell_type": "markdown",
      "source": [
        "Prediction"
      ]
    },
    {
      "metadata": {
        "id": "6kfIBhiGg479",
        "colab_type": "code",
        "outputId": "0f90d8a3-b7a6-4471-cae6-9cc7c9c5f52f",
        "colab": {
          "base_uri": "https://localhost:8080/",
          "height": 416
        }
      },
      "cell_type": "code",
      "source": [
        "y_pred = clf_gini.predict(Xval)\n",
        "y_pred"
      ],
      "execution_count": 36,
      "outputs": [
        {
          "output_type": "execute_result",
          "data": {
            "text/plain": [
              "array([1, 1, 1, 1, 1, 1, 0, 1, 1, 0, 0, 1, 0, 0, 0, 1, 1, 1, 1, 0, 0, 0,\n",
              "       1, 1, 1, 0, 1, 1, 0, 0, 1, 0, 1, 1, 1, 1, 0, 1, 0, 0, 0, 0, 1, 0,\n",
              "       0, 1, 1, 1, 0, 0, 0, 1, 0, 0, 0, 0, 0, 1, 0, 0, 0, 1, 0, 0, 0, 0,\n",
              "       0, 1, 1, 0, 1, 0, 0, 0, 0, 0, 1, 1, 0, 1, 0, 0, 0, 0, 0, 0, 1, 0,\n",
              "       0, 0, 0, 0, 0, 0, 1, 1, 1, 0, 0, 0, 1, 1, 1, 1, 0, 1, 0, 0, 1, 0,\n",
              "       0, 0, 0, 0, 0, 0, 1, 0, 1, 1, 1, 0, 0, 1, 1, 0, 1, 1, 1, 1, 0, 1,\n",
              "       1, 1, 0, 1, 1, 0, 0, 1, 0, 0, 0, 1, 0, 1, 0, 0, 0, 0, 0, 1, 0, 1,\n",
              "       0, 1, 0, 1, 0, 1, 1, 0, 0, 0, 1, 0, 0, 0, 0, 0, 1, 0, 0, 1, 1, 1,\n",
              "       1, 0, 1, 0, 1, 0, 0, 0, 1, 1, 0, 1, 1, 0, 1, 0, 1, 1, 1, 0, 1, 0,\n",
              "       1, 0, 0, 1, 0, 1, 1, 0, 0, 0, 0, 0, 0, 0, 0, 1, 1, 0, 1, 1, 1, 0,\n",
              "       0, 1, 0, 1, 1, 1, 1, 1, 0, 1, 1, 1, 1, 0, 1, 1, 1, 0, 1, 0, 1, 0,\n",
              "       0, 0, 0, 1, 0, 1, 0, 0, 0, 0, 0, 0, 1, 0, 0, 1, 0, 1, 0, 0, 0, 0,\n",
              "       1, 1, 0, 0, 1, 0, 1, 1, 0, 0, 0, 0, 1, 1, 1, 0, 1, 1, 1, 1, 0, 1,\n",
              "       0, 1, 0, 1, 1, 0, 0, 1, 0, 1, 0, 1, 0, 1, 0, 0, 0, 1, 1, 1, 1, 0,\n",
              "       1, 1, 1, 0, 0, 1, 0, 0, 1, 0, 0, 1, 1, 0, 1, 0, 1, 0, 1, 1, 0, 0,\n",
              "       1, 1, 0, 0, 0, 0, 0, 0, 0, 0, 0, 0, 0, 1, 1, 1, 1, 1, 0, 1, 1, 0,\n",
              "       1, 0, 0, 1, 0, 1, 0, 0, 1, 1, 0, 1, 1, 0, 1, 0, 1, 1, 1, 1, 1, 0,\n",
              "       0, 1, 1, 0, 0, 0, 1, 0, 0, 1, 0, 0, 1, 1, 1, 1, 1, 0, 0, 0, 0, 0,\n",
              "       0, 1, 0, 1, 1, 0, 0, 0, 0, 0, 0, 1, 1, 0, 1, 1, 1, 1, 1, 1, 1, 0,\n",
              "       0, 0, 0, 1, 1, 0, 0, 0, 0, 1, 1, 1, 1, 1, 1, 1, 0, 1, 0, 0, 1, 0,\n",
              "       0, 0, 0, 0, 1, 1, 1, 1, 0, 1, 1, 1, 1, 0, 1, 1, 0, 1, 1, 0, 1, 1,\n",
              "       0, 1, 0, 0, 0, 1, 0, 1, 1, 0, 0, 0, 1, 0, 1, 1, 1, 1, 0, 1, 0, 0,\n",
              "       0, 1, 1, 1, 1, 0, 0, 0])"
            ]
          },
          "metadata": {
            "tags": []
          },
          "execution_count": 36
        }
      ]
    },
    {
      "metadata": {
        "id": "_nSu4P24ToXb",
        "colab_type": "text"
      },
      "cell_type": "markdown",
      "source": [
        "Accuracy of the model"
      ]
    },
    {
      "metadata": {
        "id": "_jLym4vrj7h7",
        "colab_type": "code",
        "outputId": "bc6be146-7f5d-4365-8dc3-83ed7898d50f",
        "colab": {
          "base_uri": "https://localhost:8080/",
          "height": 35
        }
      },
      "cell_type": "code",
      "source": [
        "prediction = clf_entropy.predict(Xtrain)\n",
        "prediction_val =clf_entropy.predict(Xval)\n",
        "np.sum(prediction==ytrain)/len(ytrain), np.sum(prediction_val==yval)/len(yval)"
      ],
      "execution_count": 37,
      "outputs": [
        {
          "output_type": "execute_result",
          "data": {
            "text/plain": [
              "(0.9139511201629328, 0.8800813008130082)"
            ]
          },
          "metadata": {
            "tags": []
          },
          "execution_count": 37
        }
      ]
    },
    {
      "metadata": {
        "id": "deYR4VGtTvFZ",
        "colab_type": "text"
      },
      "cell_type": "markdown",
      "source": [
        "Confusion Matrix"
      ]
    },
    {
      "metadata": {
        "id": "Muf9r5ICmaWO",
        "colab_type": "code",
        "colab": {
          "base_uri": "https://localhost:8080/",
          "height": 52
        },
        "outputId": "6a5733ea-3ba8-4d22-9180-9693273ebf40"
      },
      "cell_type": "code",
      "source": [
        "from sklearn.metrics import confusion_matrix \n",
        "confusion_matrix( ytrain, prediction)"
      ],
      "execution_count": 38,
      "outputs": [
        {
          "output_type": "execute_result",
          "data": {
            "text/plain": [
              "array([[982, 103],\n",
              "       [ 66, 813]])"
            ]
          },
          "metadata": {
            "tags": []
          },
          "execution_count": 38
        }
      ]
    },
    {
      "metadata": {
        "id": "OSwr3aDJTyAb",
        "colab_type": "text"
      },
      "cell_type": "markdown",
      "source": [
        "Fitting Logistic Regression Model"
      ]
    },
    {
      "metadata": {
        "id": "Q5gupljCJOG9",
        "colab_type": "code",
        "colab": {
          "base_uri": "https://localhost:8080/",
          "height": 141
        },
        "outputId": "746a63c1-da79-4375-ccfc-493387824b17"
      },
      "cell_type": "code",
      "source": [
        "from sklearn.linear_model import LogisticRegression\n",
        "model_lr = LogisticRegression(C=0.1, dual=True)\n",
        "model_lr.fit(Xtrain, ytrain)"
      ],
      "execution_count": 39,
      "outputs": [
        {
          "output_type": "stream",
          "text": [
            "/usr/local/lib/python3.6/dist-packages/sklearn/linear_model/logistic.py:433: FutureWarning: Default solver will be changed to 'lbfgs' in 0.22. Specify a solver to silence this warning.\n",
            "  FutureWarning)\n"
          ],
          "name": "stderr"
        },
        {
          "output_type": "execute_result",
          "data": {
            "text/plain": [
              "LogisticRegression(C=0.1, class_weight=None, dual=True, fit_intercept=True,\n",
              "          intercept_scaling=1, max_iter=100, multi_class='warn',\n",
              "          n_jobs=None, penalty='l2', random_state=None, solver='warn',\n",
              "          tol=0.0001, verbose=0, warm_start=False)"
            ]
          },
          "metadata": {
            "tags": []
          },
          "execution_count": 39
        }
      ]
    },
    {
      "metadata": {
        "id": "KjjrKQoHK5Cq",
        "colab_type": "code",
        "colab": {
          "base_uri": "https://localhost:8080/",
          "height": 416
        },
        "outputId": "ecf40cb6-89c1-4b0f-ea99-ba37dce2eed2"
      },
      "cell_type": "code",
      "source": [
        "model_lr.predict(Xval)"
      ],
      "execution_count": 40,
      "outputs": [
        {
          "output_type": "execute_result",
          "data": {
            "text/plain": [
              "array([1, 1, 0, 1, 1, 1, 0, 1, 0, 0, 1, 1, 0, 0, 0, 1, 1, 1, 1, 0, 1, 0,\n",
              "       0, 0, 0, 0, 1, 1, 0, 0, 1, 0, 1, 1, 1, 1, 1, 1, 0, 0, 1, 1, 1, 0,\n",
              "       0, 1, 1, 1, 0, 0, 0, 1, 0, 0, 0, 0, 0, 1, 1, 0, 1, 1, 0, 0, 0, 0,\n",
              "       0, 0, 1, 1, 1, 0, 0, 0, 1, 0, 1, 0, 0, 1, 0, 0, 0, 0, 0, 0, 1, 0,\n",
              "       0, 0, 0, 0, 0, 0, 1, 1, 1, 0, 0, 0, 1, 1, 1, 1, 0, 1, 0, 0, 0, 0,\n",
              "       0, 0, 0, 0, 0, 0, 1, 0, 1, 1, 1, 0, 0, 1, 1, 0, 1, 1, 1, 0, 0, 1,\n",
              "       0, 1, 0, 1, 1, 0, 0, 1, 0, 0, 0, 1, 0, 1, 0, 0, 0, 0, 1, 1, 0, 1,\n",
              "       0, 1, 0, 1, 0, 1, 0, 0, 0, 0, 1, 0, 0, 0, 1, 0, 1, 0, 0, 1, 1, 1,\n",
              "       1, 0, 1, 1, 1, 0, 0, 0, 1, 1, 0, 1, 1, 0, 1, 0, 0, 0, 0, 0, 1, 0,\n",
              "       1, 0, 0, 0, 0, 1, 1, 0, 0, 0, 1, 0, 0, 1, 0, 1, 1, 0, 1, 1, 1, 0,\n",
              "       0, 1, 0, 1, 1, 1, 1, 1, 0, 1, 1, 0, 1, 0, 1, 1, 1, 0, 1, 0, 1, 0,\n",
              "       0, 0, 0, 1, 0, 1, 0, 0, 0, 0, 0, 0, 1, 0, 0, 1, 0, 1, 0, 0, 0, 0,\n",
              "       0, 1, 0, 1, 1, 0, 1, 1, 0, 0, 0, 1, 1, 1, 1, 0, 1, 1, 1, 0, 0, 1,\n",
              "       0, 1, 1, 0, 1, 0, 1, 1, 0, 0, 0, 1, 0, 1, 0, 0, 0, 1, 1, 1, 1, 0,\n",
              "       1, 1, 1, 0, 0, 1, 0, 0, 1, 0, 0, 1, 0, 0, 1, 0, 1, 0, 1, 1, 0, 1,\n",
              "       1, 1, 0, 0, 0, 0, 0, 0, 0, 0, 0, 0, 0, 0, 1, 1, 0, 1, 0, 1, 1, 0,\n",
              "       1, 0, 1, 1, 0, 1, 0, 0, 1, 1, 0, 1, 0, 0, 1, 0, 1, 1, 1, 1, 1, 0,\n",
              "       0, 1, 1, 0, 0, 0, 1, 0, 0, 1, 0, 1, 0, 1, 1, 1, 1, 0, 0, 0, 0, 0,\n",
              "       0, 1, 0, 1, 1, 0, 0, 0, 0, 0, 1, 1, 1, 1, 1, 1, 1, 1, 1, 1, 1, 0,\n",
              "       0, 1, 0, 1, 1, 0, 0, 0, 0, 1, 1, 1, 0, 1, 1, 1, 0, 1, 0, 0, 1, 0,\n",
              "       0, 0, 0, 0, 1, 1, 1, 1, 0, 1, 1, 0, 1, 0, 1, 0, 0, 1, 1, 0, 1, 0,\n",
              "       0, 1, 0, 0, 1, 1, 0, 1, 1, 0, 0, 0, 1, 0, 1, 1, 1, 0, 0, 1, 0, 1,\n",
              "       0, 1, 1, 1, 1, 0, 0, 0])"
            ]
          },
          "metadata": {
            "tags": []
          },
          "execution_count": 40
        }
      ]
    },
    {
      "metadata": {
        "id": "9mm9vmVyJy0J",
        "colab_type": "code",
        "colab": {
          "base_uri": "https://localhost:8080/",
          "height": 35
        },
        "outputId": "b0330d60-ecfa-423a-fafc-e8c26d61d6cd"
      },
      "cell_type": "code",
      "source": [
        "prediction = model_lr.predict(Xtrain)\n",
        "prediction_val =model_lr.predict(Xval)\n",
        "np.sum(prediction==ytrain)/len(ytrain), np.sum(prediction_val==yval)/len(yval)"
      ],
      "execution_count": 41,
      "outputs": [
        {
          "output_type": "execute_result",
          "data": {
            "text/plain": [
              "(0.9445010183299389, 0.9491869918699187)"
            ]
          },
          "metadata": {
            "tags": []
          },
          "execution_count": 41
        }
      ]
    },
    {
      "metadata": {
        "id": "gvcWyktyLUzX",
        "colab_type": "code",
        "colab": {
          "base_uri": "https://localhost:8080/",
          "height": 52
        },
        "outputId": "9aa167e2-0d46-4d47-95e9-50d55382e26f"
      },
      "cell_type": "code",
      "source": [
        "from sklearn.metrics import confusion_matrix \n",
        "confusion_matrix( ytrain, prediction)"
      ],
      "execution_count": 42,
      "outputs": [
        {
          "output_type": "execute_result",
          "data": {
            "text/plain": [
              "array([[1030,   55],\n",
              "       [  54,  825]])"
            ]
          },
          "metadata": {
            "tags": []
          },
          "execution_count": 42
        }
      ]
    },
    {
      "metadata": {
        "id": "wbPOJ_m4T2S-",
        "colab_type": "text"
      },
      "cell_type": "markdown",
      "source": [
        "Fitting the Naivebayes model"
      ]
    },
    {
      "metadata": {
        "id": "ID48-uD6KCNx",
        "colab_type": "code",
        "colab": {
          "base_uri": "https://localhost:8080/",
          "height": 35
        },
        "outputId": "30dfb5c1-86f0-4222-d9af-0adae395257d"
      },
      "cell_type": "code",
      "source": [
        "from sklearn.naive_bayes import GaussianNB\n",
        "model_NB = GaussianNB()\n",
        "model_NB.fit(Xtrain,ytrain)\n"
      ],
      "execution_count": 43,
      "outputs": [
        {
          "output_type": "execute_result",
          "data": {
            "text/plain": [
              "GaussianNB(priors=None, var_smoothing=1e-09)"
            ]
          },
          "metadata": {
            "tags": []
          },
          "execution_count": 43
        }
      ]
    },
    {
      "metadata": {
        "id": "_kgmPAM6LAeD",
        "colab_type": "code",
        "colab": {
          "base_uri": "https://localhost:8080/",
          "height": 416
        },
        "outputId": "95778fa9-9ab2-4a80-e267-629af4597063"
      },
      "cell_type": "code",
      "source": [
        "model_NB.predict(Xval)\n"
      ],
      "execution_count": 44,
      "outputs": [
        {
          "output_type": "execute_result",
          "data": {
            "text/plain": [
              "array([1, 1, 0, 1, 1, 1, 0, 1, 0, 0, 1, 1, 0, 0, 0, 1, 1, 1, 1, 0, 1, 0,\n",
              "       0, 0, 0, 0, 1, 1, 0, 0, 1, 0, 1, 1, 1, 1, 1, 1, 0, 0, 1, 1, 1, 0,\n",
              "       0, 1, 1, 1, 0, 0, 0, 1, 0, 0, 0, 0, 0, 1, 1, 0, 1, 1, 0, 0, 0, 0,\n",
              "       0, 0, 1, 1, 1, 0, 0, 0, 1, 0, 1, 0, 0, 1, 0, 0, 0, 0, 0, 0, 1, 0,\n",
              "       0, 0, 0, 0, 0, 0, 1, 1, 1, 0, 0, 0, 1, 1, 1, 1, 0, 1, 1, 0, 0, 0,\n",
              "       0, 0, 1, 0, 0, 0, 1, 0, 1, 1, 1, 0, 0, 1, 0, 0, 1, 1, 1, 0, 0, 1,\n",
              "       0, 1, 0, 1, 1, 0, 0, 1, 0, 0, 0, 1, 0, 1, 0, 0, 0, 0, 1, 1, 0, 1,\n",
              "       0, 1, 0, 1, 0, 1, 0, 0, 0, 0, 1, 0, 0, 0, 1, 0, 1, 0, 0, 1, 1, 1,\n",
              "       1, 0, 1, 1, 1, 0, 0, 0, 1, 1, 0, 1, 1, 0, 1, 0, 0, 0, 0, 0, 1, 0,\n",
              "       1, 0, 0, 0, 0, 1, 1, 0, 0, 0, 1, 0, 0, 1, 0, 1, 1, 0, 1, 1, 1, 0,\n",
              "       0, 1, 0, 1, 1, 1, 1, 1, 0, 1, 1, 0, 1, 1, 1, 1, 1, 0, 1, 0, 1, 0,\n",
              "       0, 0, 0, 1, 0, 1, 0, 0, 0, 0, 0, 0, 1, 0, 0, 1, 0, 1, 0, 0, 0, 0,\n",
              "       1, 1, 0, 1, 1, 0, 1, 1, 0, 0, 1, 1, 1, 1, 1, 0, 1, 1, 1, 0, 0, 1,\n",
              "       0, 1, 1, 1, 1, 0, 1, 1, 0, 0, 0, 1, 0, 1, 0, 0, 0, 1, 1, 1, 1, 0,\n",
              "       1, 1, 1, 0, 0, 1, 0, 0, 1, 0, 0, 1, 0, 1, 1, 0, 1, 0, 1, 1, 0, 1,\n",
              "       1, 1, 0, 0, 0, 0, 0, 1, 0, 0, 0, 0, 0, 0, 1, 1, 0, 1, 0, 1, 1, 0,\n",
              "       1, 0, 1, 1, 0, 1, 0, 0, 1, 0, 1, 1, 0, 0, 1, 0, 1, 1, 1, 1, 1, 0,\n",
              "       0, 1, 1, 0, 0, 0, 1, 0, 0, 1, 0, 1, 1, 1, 1, 1, 1, 0, 0, 0, 0, 0,\n",
              "       0, 1, 0, 1, 1, 0, 0, 0, 0, 0, 1, 1, 1, 1, 0, 0, 1, 1, 1, 1, 1, 0,\n",
              "       0, 1, 0, 0, 1, 0, 0, 0, 0, 1, 1, 0, 0, 1, 1, 1, 0, 1, 0, 0, 1, 1,\n",
              "       0, 0, 0, 0, 1, 1, 1, 1, 0, 1, 1, 0, 1, 0, 1, 0, 0, 1, 1, 0, 1, 0,\n",
              "       0, 1, 0, 0, 1, 1, 0, 1, 1, 0, 0, 0, 1, 0, 1, 0, 1, 0, 0, 1, 0, 1,\n",
              "       0, 1, 1, 1, 1, 0, 0, 0])"
            ]
          },
          "metadata": {
            "tags": []
          },
          "execution_count": 44
        }
      ]
    },
    {
      "metadata": {
        "id": "LAZ2kNmgLZAk",
        "colab_type": "code",
        "colab": {
          "base_uri": "https://localhost:8080/",
          "height": 35
        },
        "outputId": "1f33316a-730b-4fc6-fa04-1cfbe658d4b5"
      },
      "cell_type": "code",
      "source": [
        "prediction = model_NB.predict(Xtrain)\n",
        "prediction_val =model_NB.predict(Xval)\n",
        "np.sum(prediction==ytrain)/len(ytrain), np.sum(prediction_val==yval)/len(yval)"
      ],
      "execution_count": 45,
      "outputs": [
        {
          "output_type": "execute_result",
          "data": {
            "text/plain": [
              "(0.9210794297352343, 0.9247967479674797)"
            ]
          },
          "metadata": {
            "tags": []
          },
          "execution_count": 45
        }
      ]
    },
    {
      "metadata": {
        "id": "TznqvDNHLCl1",
        "colab_type": "code",
        "colab": {
          "base_uri": "https://localhost:8080/",
          "height": 52
        },
        "outputId": "8712a1b8-b82d-4cd4-e8d9-24e763bb95d6"
      },
      "cell_type": "code",
      "source": [
        "from sklearn.metrics import confusion_matrix \n",
        "confusion_matrix( ytrain, prediction)"
      ],
      "execution_count": 46,
      "outputs": [
        {
          "output_type": "execute_result",
          "data": {
            "text/plain": [
              "array([[999,  86],\n",
              "       [ 69, 810]])"
            ]
          },
          "metadata": {
            "tags": []
          },
          "execution_count": 46
        }
      ]
    }
  ]
}